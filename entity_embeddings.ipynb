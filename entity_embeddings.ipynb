{
 "metadata": {
  "language_info": {
   "codemirror_mode": {
    "name": "ipython",
    "version": 3
   },
   "file_extension": ".py",
   "mimetype": "text/x-python",
   "name": "python",
   "nbconvert_exporter": "python",
   "pygments_lexer": "ipython3",
   "version": "3.8.5-final"
  },
  "orig_nbformat": 2,
  "kernelspec": {
   "name": "python3",
   "display_name": "Python 3"
  }
 },
 "nbformat": 4,
 "nbformat_minor": 2,
 "cells": [
  {
   "source": [
    "## Libraries"
   ],
   "cell_type": "markdown",
   "metadata": {}
  },
  {
   "cell_type": "code",
   "execution_count": 1,
   "metadata": {},
   "outputs": [],
   "source": [
    "import torch\n",
    "import warnings\n",
    "import numpy as np\n",
    "import pandas as pd\n",
    "import torch.nn as nn\n",
    "from tqdm import tqdm\n",
    "from pandas_profiling import ProfileReport\n",
    "from sklearn.metrics import roc_auc_score\n",
    "from sklearn.preprocessing import LabelEncoder\n",
    "from sklearn.model_selection import train_test_split\n",
    "from torch.utils.data import Dataset, DataLoader\n",
    "from torch.optim.lr_scheduler import ReduceLROnPlateau\n",
    "\n",
    "pd.options.display.max_columns = None\n",
    "warnings.filterwarnings('ignore')"
   ]
  },
  {
   "source": [
    "## Load data"
   ],
   "cell_type": "markdown",
   "metadata": {}
  },
  {
   "cell_type": "code",
   "execution_count": 16,
   "metadata": {
    "tags": []
   },
   "outputs": [
    {
     "output_type": "stream",
     "name": "stdout",
     "text": "(600000, 25)\n"
    },
    {
     "output_type": "execute_result",
     "data": {
      "text/plain": "   id  bin_0  bin_1  bin_2 bin_3 bin_4 nom_0      nom_1    nom_2       nom_3  \\\n0   0    0.0    0.0    0.0     F     N   Red  Trapezoid  Hamster      Russia   \n1   1    1.0    1.0    0.0     F     Y   Red       Star  Axolotl         NaN   \n2   2    0.0    1.0    0.0     F     N   Red        NaN  Hamster      Canada   \n3   3    NaN    0.0    0.0     F     N   Red     Circle  Hamster     Finland   \n4   4    0.0    NaN    0.0     T     N   Red   Triangle  Hamster  Costa Rica   \n\n      nom_4      nom_5      nom_6      nom_7      nom_8      nom_9  ord_0  \\\n0   Bassoon  de4c57ee2  a64bc7ddf  598080a91  0256c7a4b  02e7c8990    3.0   \n1  Theremin  2bb3c3e5c  3a3a936e8  1dddb8473  52ead350c  f37df64af    3.0   \n2   Bassoon  b574c9841  708248125  5ddc9a726  745b909d1        NaN    3.0   \n3  Theremin  673bdf1f6  23edb8da3  3a33ef960  bdaa56dd1  f9d456e57    1.0   \n4       NaN  777d1ac2c  3a7975e46  bc9cc2a94        NaN  c5361037c    3.0   \n\n         ord_1     ord_2 ord_3 ord_4 ord_5  day  month  target  \n0  Contributor       Hot     c     U    Pw  6.0    3.0       0  \n1  Grandmaster      Warm     e     X    pE  7.0    7.0       0  \n2          NaN  Freezing     n     P    eN  5.0    9.0       0  \n3       Novice  Lava Hot     a     C   NaN  3.0    3.0       0  \n4  Grandmaster      Cold     h     C    OZ  5.0   12.0       0  ",
      "text/html": "<div>\n<style scoped>\n    .dataframe tbody tr th:only-of-type {\n        vertical-align: middle;\n    }\n\n    .dataframe tbody tr th {\n        vertical-align: top;\n    }\n\n    .dataframe thead th {\n        text-align: right;\n    }\n</style>\n<table border=\"1\" class=\"dataframe\">\n  <thead>\n    <tr style=\"text-align: right;\">\n      <th></th>\n      <th>id</th>\n      <th>bin_0</th>\n      <th>bin_1</th>\n      <th>bin_2</th>\n      <th>bin_3</th>\n      <th>bin_4</th>\n      <th>nom_0</th>\n      <th>nom_1</th>\n      <th>nom_2</th>\n      <th>nom_3</th>\n      <th>nom_4</th>\n      <th>nom_5</th>\n      <th>nom_6</th>\n      <th>nom_7</th>\n      <th>nom_8</th>\n      <th>nom_9</th>\n      <th>ord_0</th>\n      <th>ord_1</th>\n      <th>ord_2</th>\n      <th>ord_3</th>\n      <th>ord_4</th>\n      <th>ord_5</th>\n      <th>day</th>\n      <th>month</th>\n      <th>target</th>\n    </tr>\n  </thead>\n  <tbody>\n    <tr>\n      <th>0</th>\n      <td>0</td>\n      <td>0.0</td>\n      <td>0.0</td>\n      <td>0.0</td>\n      <td>F</td>\n      <td>N</td>\n      <td>Red</td>\n      <td>Trapezoid</td>\n      <td>Hamster</td>\n      <td>Russia</td>\n      <td>Bassoon</td>\n      <td>de4c57ee2</td>\n      <td>a64bc7ddf</td>\n      <td>598080a91</td>\n      <td>0256c7a4b</td>\n      <td>02e7c8990</td>\n      <td>3.0</td>\n      <td>Contributor</td>\n      <td>Hot</td>\n      <td>c</td>\n      <td>U</td>\n      <td>Pw</td>\n      <td>6.0</td>\n      <td>3.0</td>\n      <td>0</td>\n    </tr>\n    <tr>\n      <th>1</th>\n      <td>1</td>\n      <td>1.0</td>\n      <td>1.0</td>\n      <td>0.0</td>\n      <td>F</td>\n      <td>Y</td>\n      <td>Red</td>\n      <td>Star</td>\n      <td>Axolotl</td>\n      <td>NaN</td>\n      <td>Theremin</td>\n      <td>2bb3c3e5c</td>\n      <td>3a3a936e8</td>\n      <td>1dddb8473</td>\n      <td>52ead350c</td>\n      <td>f37df64af</td>\n      <td>3.0</td>\n      <td>Grandmaster</td>\n      <td>Warm</td>\n      <td>e</td>\n      <td>X</td>\n      <td>pE</td>\n      <td>7.0</td>\n      <td>7.0</td>\n      <td>0</td>\n    </tr>\n    <tr>\n      <th>2</th>\n      <td>2</td>\n      <td>0.0</td>\n      <td>1.0</td>\n      <td>0.0</td>\n      <td>F</td>\n      <td>N</td>\n      <td>Red</td>\n      <td>NaN</td>\n      <td>Hamster</td>\n      <td>Canada</td>\n      <td>Bassoon</td>\n      <td>b574c9841</td>\n      <td>708248125</td>\n      <td>5ddc9a726</td>\n      <td>745b909d1</td>\n      <td>NaN</td>\n      <td>3.0</td>\n      <td>NaN</td>\n      <td>Freezing</td>\n      <td>n</td>\n      <td>P</td>\n      <td>eN</td>\n      <td>5.0</td>\n      <td>9.0</td>\n      <td>0</td>\n    </tr>\n    <tr>\n      <th>3</th>\n      <td>3</td>\n      <td>NaN</td>\n      <td>0.0</td>\n      <td>0.0</td>\n      <td>F</td>\n      <td>N</td>\n      <td>Red</td>\n      <td>Circle</td>\n      <td>Hamster</td>\n      <td>Finland</td>\n      <td>Theremin</td>\n      <td>673bdf1f6</td>\n      <td>23edb8da3</td>\n      <td>3a33ef960</td>\n      <td>bdaa56dd1</td>\n      <td>f9d456e57</td>\n      <td>1.0</td>\n      <td>Novice</td>\n      <td>Lava Hot</td>\n      <td>a</td>\n      <td>C</td>\n      <td>NaN</td>\n      <td>3.0</td>\n      <td>3.0</td>\n      <td>0</td>\n    </tr>\n    <tr>\n      <th>4</th>\n      <td>4</td>\n      <td>0.0</td>\n      <td>NaN</td>\n      <td>0.0</td>\n      <td>T</td>\n      <td>N</td>\n      <td>Red</td>\n      <td>Triangle</td>\n      <td>Hamster</td>\n      <td>Costa Rica</td>\n      <td>NaN</td>\n      <td>777d1ac2c</td>\n      <td>3a7975e46</td>\n      <td>bc9cc2a94</td>\n      <td>NaN</td>\n      <td>c5361037c</td>\n      <td>3.0</td>\n      <td>Grandmaster</td>\n      <td>Cold</td>\n      <td>h</td>\n      <td>C</td>\n      <td>OZ</td>\n      <td>5.0</td>\n      <td>12.0</td>\n      <td>0</td>\n    </tr>\n  </tbody>\n</table>\n</div>"
     },
     "metadata": {},
     "execution_count": 16
    }
   ],
   "source": [
    "df = pd.read_csv('./data/train.csv')\n",
    "\n",
    "print(df.shape)\n",
    "\n",
    "df.head()"
   ]
  },
  {
   "cell_type": "code",
   "execution_count": 4,
   "metadata": {},
   "outputs": [],
   "source": [
    "# profile = ProfileReport(train_df, minimal = True)\n",
    "\n",
    "# profile.to_file('profile_report.html')"
   ]
  },
  {
   "source": [
    "## Split data"
   ],
   "cell_type": "markdown",
   "metadata": {}
  },
  {
   "cell_type": "code",
   "execution_count": 5,
   "metadata": {
    "tags": []
   },
   "outputs": [
    {
     "output_type": "stream",
     "name": "stdout",
     "text": "Train: (408000, 25)\nVal: (72000, 25)\nTest: (120000, 25)\n"
    }
   ],
   "source": [
    "col_list = [col for col in df.columns if col not in ['id', 'target']]\n",
    "\n",
    "train_df, test_df = train_test_split(\n",
    "    df,\n",
    "    stratify = df['target'],\n",
    "    test_size = 0.2,\n",
    "    shuffle = True,\n",
    "    random_state = 2020\n",
    ")\n",
    "\n",
    "train_df, val_df = train_test_split(\n",
    "    train_df,\n",
    "    stratify = train_df['target'],\n",
    "    test_size = 0.15,\n",
    "    shuffle = True,\n",
    "    random_state = 2020\n",
    ")\n",
    "\n",
    "train_df = train_df.reset_index(drop = True)\n",
    "val_df = val_df.reset_index(drop = True)\n",
    "test_df = test_df.reset_index(drop = True)\n",
    "\n",
    "x_train = train_df.loc[:, col_list]\n",
    "y_train = train_df.loc[:, 'target']\n",
    "\n",
    "x_val = val_df.loc[:, col_list]\n",
    "y_val = val_df.loc[:, 'target']\n",
    "\n",
    "x_test = test_df.loc[:, col_list]\n",
    "y_test = test_df.loc[:, 'target']\n",
    "\n",
    "print(f'Train: {train_df.shape}')\n",
    "print(f'Val: {val_df.shape}')\n",
    "print(f'Test: {test_df.shape}')"
   ]
  },
  {
   "source": [
    "## Numerical encoding"
   ],
   "cell_type": "markdown",
   "metadata": {}
  },
  {
   "cell_type": "code",
   "execution_count": 8,
   "metadata": {},
   "outputs": [
    {
     "output_type": "execute_result",
     "data": {
      "text/plain": "   bin_0  bin_1  bin_2  bin_3  bin_4  nom_0  nom_1  nom_2  nom_3  nom_4  \\\n0      1      1      1      1      1      3      5      4      5      4   \n1      1      1      1      1      1      3      1      3      5      4   \n2      1      1      0      1      0      3      6      1      3      4   \n3      1      1      2      1      2      3      2      4      3      4   \n4      1      2      1      1      1      1      6      1      5      4   \n\n   nom_5  nom_6  nom_7  nom_8  nom_9  ord_0  ord_1  ord_2  ord_3  ord_4  \\\n0    646    293    212     17   1502      2      5      1     13     14   \n1    743    788     91      7   1541      3      4      1     14     17   \n2    321      2    112    129   1723      3      3      6      5     18   \n3   1093    876    207    113   1225      1      5      3      5     21   \n4    414   1186     86    115      0      3      3      6      3      3   \n\n   ord_5  day  month  \n0     98    0     10  \n1     29    2     11  \n2     27    7      4  \n3    140    2     12  \n4     13    2      6  ",
      "text/html": "<div>\n<style scoped>\n    .dataframe tbody tr th:only-of-type {\n        vertical-align: middle;\n    }\n\n    .dataframe tbody tr th {\n        vertical-align: top;\n    }\n\n    .dataframe thead th {\n        text-align: right;\n    }\n</style>\n<table border=\"1\" class=\"dataframe\">\n  <thead>\n    <tr style=\"text-align: right;\">\n      <th></th>\n      <th>bin_0</th>\n      <th>bin_1</th>\n      <th>bin_2</th>\n      <th>bin_3</th>\n      <th>bin_4</th>\n      <th>nom_0</th>\n      <th>nom_1</th>\n      <th>nom_2</th>\n      <th>nom_3</th>\n      <th>nom_4</th>\n      <th>nom_5</th>\n      <th>nom_6</th>\n      <th>nom_7</th>\n      <th>nom_8</th>\n      <th>nom_9</th>\n      <th>ord_0</th>\n      <th>ord_1</th>\n      <th>ord_2</th>\n      <th>ord_3</th>\n      <th>ord_4</th>\n      <th>ord_5</th>\n      <th>day</th>\n      <th>month</th>\n    </tr>\n  </thead>\n  <tbody>\n    <tr>\n      <th>0</th>\n      <td>1</td>\n      <td>1</td>\n      <td>1</td>\n      <td>1</td>\n      <td>1</td>\n      <td>3</td>\n      <td>5</td>\n      <td>4</td>\n      <td>5</td>\n      <td>4</td>\n      <td>646</td>\n      <td>293</td>\n      <td>212</td>\n      <td>17</td>\n      <td>1502</td>\n      <td>2</td>\n      <td>5</td>\n      <td>1</td>\n      <td>13</td>\n      <td>14</td>\n      <td>98</td>\n      <td>0</td>\n      <td>10</td>\n    </tr>\n    <tr>\n      <th>1</th>\n      <td>1</td>\n      <td>1</td>\n      <td>1</td>\n      <td>1</td>\n      <td>1</td>\n      <td>3</td>\n      <td>1</td>\n      <td>3</td>\n      <td>5</td>\n      <td>4</td>\n      <td>743</td>\n      <td>788</td>\n      <td>91</td>\n      <td>7</td>\n      <td>1541</td>\n      <td>3</td>\n      <td>4</td>\n      <td>1</td>\n      <td>14</td>\n      <td>17</td>\n      <td>29</td>\n      <td>2</td>\n      <td>11</td>\n    </tr>\n    <tr>\n      <th>2</th>\n      <td>1</td>\n      <td>1</td>\n      <td>0</td>\n      <td>1</td>\n      <td>0</td>\n      <td>3</td>\n      <td>6</td>\n      <td>1</td>\n      <td>3</td>\n      <td>4</td>\n      <td>321</td>\n      <td>2</td>\n      <td>112</td>\n      <td>129</td>\n      <td>1723</td>\n      <td>3</td>\n      <td>3</td>\n      <td>6</td>\n      <td>5</td>\n      <td>18</td>\n      <td>27</td>\n      <td>7</td>\n      <td>4</td>\n    </tr>\n    <tr>\n      <th>3</th>\n      <td>1</td>\n      <td>1</td>\n      <td>2</td>\n      <td>1</td>\n      <td>2</td>\n      <td>3</td>\n      <td>2</td>\n      <td>4</td>\n      <td>3</td>\n      <td>4</td>\n      <td>1093</td>\n      <td>876</td>\n      <td>207</td>\n      <td>113</td>\n      <td>1225</td>\n      <td>1</td>\n      <td>5</td>\n      <td>3</td>\n      <td>5</td>\n      <td>21</td>\n      <td>140</td>\n      <td>2</td>\n      <td>12</td>\n    </tr>\n    <tr>\n      <th>4</th>\n      <td>1</td>\n      <td>2</td>\n      <td>1</td>\n      <td>1</td>\n      <td>1</td>\n      <td>1</td>\n      <td>6</td>\n      <td>1</td>\n      <td>5</td>\n      <td>4</td>\n      <td>414</td>\n      <td>1186</td>\n      <td>86</td>\n      <td>115</td>\n      <td>0</td>\n      <td>3</td>\n      <td>3</td>\n      <td>6</td>\n      <td>3</td>\n      <td>3</td>\n      <td>13</td>\n      <td>2</td>\n      <td>6</td>\n    </tr>\n  </tbody>\n</table>\n</div>"
     },
     "metadata": {},
     "execution_count": 8
    }
   ],
   "source": [
    "x_all = pd.concat([x_train, x_val, x_test], axis = 0).reset_index(drop = True)\n",
    "\n",
    "# numerically encode all categorical variables to {0, 1, ..., N-1}\n",
    "for col in col_list:\n",
    "    encoder = LabelEncoder()\n",
    "    encoder.fit(x_all[col].fillna('-1').astype(str).values)\n",
    "    x_train[col] = encoder.transform(x_train[col].fillna('-1').astype(str).values)\n",
    "    x_val[col] = encoder.transform(x_val[col].fillna('-1').astype(str).values)\n",
    "    x_test[col] = encoder.transform(x_test[col].fillna('-1').astype(str).values)\n",
    "\n",
    "x_train.head()"
   ]
  },
  {
   "source": [
    "## Data loader"
   ],
   "cell_type": "markdown",
   "metadata": {}
  },
  {
   "cell_type": "code",
   "execution_count": 9,
   "metadata": {},
   "outputs": [],
   "source": [
    "class CategoricalDataset(Dataset):\n",
    "    def __init__(self, inputs, targets):\n",
    "        self.inputs = inputs\n",
    "        self.targets = targets\n",
    "    \n",
    "    def __len__(self):\n",
    "        return len(self.inputs)\n",
    "    \n",
    "    def __getitem__(self, index):\n",
    "        x = self.inputs.loc[index, col_list].values\n",
    "        y = self.targets.iloc[index]\n",
    "        return x, y"
   ]
  },
  {
   "cell_type": "code",
   "execution_count": 10,
   "metadata": {},
   "outputs": [],
   "source": [
    "dataset_train = CategoricalDataset(x_train, y_train)\n",
    "dataset_val = CategoricalDataset(x_val, y_val)\n",
    "dataset_test = CategoricalDataset(x_test, y_test)\n",
    "\n",
    "train_gen = DataLoader(dataset_train, batch_size = 64, shuffle = True)\n",
    "val_gen = DataLoader(dataset_val, batch_size = 64, shuffle = True)\n",
    "test_gen = DataLoader(dataset_test, batch_size = 64, shuffle = False)"
   ]
  },
  {
   "cell_type": "code",
   "execution_count": 11,
   "metadata": {
    "tags": []
   },
   "outputs": [],
   "source": [
    "# x, y = next(iter(train_gen))\n",
    "\n",
    "# x, y"
   ]
  },
  {
   "source": [
    "## Specify model"
   ],
   "cell_type": "markdown",
   "metadata": {}
  },
  {
   "cell_type": "code",
   "execution_count": 13,
   "metadata": {
    "tags": []
   },
   "outputs": [
    {
     "output_type": "stream",
     "name": "stdout",
     "text": "EntityEmbeddingModel(\n  (embeddings): ModuleList(\n    (0): Embedding(2, 1)\n    (1): Embedding(2, 1)\n    (2): Embedding(2, 1)\n    (3): Embedding(2, 1)\n    (4): Embedding(2, 1)\n    (5): Embedding(3, 2)\n    (6): Embedding(6, 3)\n    (7): Embedding(6, 3)\n    (8): Embedding(6, 3)\n    (9): Embedding(4, 2)\n    (10): Embedding(1220, 50)\n    (11): Embedding(1519, 50)\n    (12): Embedding(222, 50)\n    (13): Embedding(222, 50)\n    (14): Embedding(2218, 50)\n    (15): Embedding(3, 2)\n    (16): Embedding(5, 3)\n    (17): Embedding(6, 3)\n    (18): Embedding(15, 8)\n    (19): Embedding(26, 13)\n    (20): Embedding(190, 50)\n    (21): Embedding(7, 4)\n    (22): Embedding(12, 6)\n  )\n  (lin1): Linear(in_features=357, out_features=300, bias=True)\n  (lin2): Linear(in_features=300, out_features=300, bias=True)\n  (lin3): Linear(in_features=300, out_features=2, bias=True)\n  (softmax): Softmax(dim=None)\n)\n"
    }
   ],
   "source": [
    "class EntityEmbeddingModel(nn.Module):\n",
    "    def __init__(self):\n",
    "        super().__init__()\n",
    "        self.embeddings = nn.ModuleList([])\n",
    "        for col in col_list:\n",
    "            num_categories = int(x_all[col].nunique())\n",
    "            embed_dim = int(min(np.ceil((num_categories) / 2), 50))\n",
    "            self.embeddings.append(nn.Embedding(num_categories, embed_dim))\n",
    "        self.dim_concat = np.sum([layer.embedding_dim for layer in self.embeddings])\n",
    "        self.lin1 = nn.Linear(self.dim_concat, 300)\n",
    "        self.lin2 = nn.Linear(300, 300)\n",
    "        self.lin3 = nn.Linear(300, 2)\n",
    "        self.softmax = nn.Softmax()\n",
    "    \n",
    "    def forward(self, x):\n",
    "        e = [layer(x[:, i]).view(x[:, i].shape[0], layer.embedding_dim) for i, layer in zip(range(len(self.embeddings)), self.embeddings)]\n",
    "        c = torch.cat(e, dim = 1)\n",
    "        h = self.lin1(c)\n",
    "        h = self.lin2(h)\n",
    "        y = self.lin3(h)\n",
    "        y = self.softmax(y)\n",
    "        return y\n",
    "\n",
    "device = torch.device('cuda:0')\n",
    "\n",
    "model = EntityEmbeddingModel().to(device)\n",
    "loss_fun = nn.CrossEntropyLoss()\n",
    "optimizer = torch.optim.AdamW(model.parameters(), lr = 1e-3, weight_decay = 5e-3)\n",
    "\n",
    "print(model)"
   ]
  },
  {
   "source": [
    "## Fit model"
   ],
   "cell_type": "markdown",
   "metadata": {}
  },
  {
   "cell_type": "code",
   "execution_count": null,
   "metadata": {},
   "outputs": [],
   "source": [
    "PLATEAU_PATIENCE = 1\n",
    "EARLY_PATIENCE = 3\n",
    "NUM_EPOCHS = 15\n",
    "patience_counter = EARLY_PATIENCE\n",
    "best_val_loss = 999\n",
    "\n",
    "plateau_scheduler = ReduceLROnPlateau(\n",
    "    optimizer,\n",
    "    mode = 'min',\n",
    "    patience = PLATEAU_PATIENCE,\n",
    "    factor = 0.2,\n",
    "    verbose = True\n",
    ")\n",
    "\n",
    "for i_epoch in range(NUM_EPOCHS):\n",
    "    train_losses = []\n",
    "    val_losses = []\n",
    "\n",
    "    # optimization on training data\n",
    "    model.train() \n",
    "    for x, y in tqdm(train_gen):\n",
    "        x = x.to(device, dtype = torch.int64)\n",
    "        y = y.to(device, dtype = torch.float32)  \n",
    "        optimizer.zero_grad() \n",
    "        pred = model(x)\n",
    "        loss = loss_fun(pred, y)\n",
    "        train_losses.append(loss.item())\n",
    "        loss.backward()\n",
    "        optimizer.step()\n",
    "        \n",
    "    # evaluation on validation data\n",
    "    model.eval() \n",
    "    with torch.no_grad():\n",
    "        for x, y in tqdm(val_gen):\n",
    "            x = x.to(device, dtype = torch.int64)\n",
    "            y = y.to(device, dtype = torch.float32)  \n",
    "            pred = model(x)\n",
    "            loss = loss_fun(pred, y)\n",
    "            val_losses.append(loss.item())\n",
    "    \n",
    "    # display progress\n",
    "    print(f'{i_epoch+1} | Train loss: {np.mean(train_losses):.4f} | Val loss: {np.mean(val_losses):.4f}')\n",
    "    \n",
    "    # check learning plateau criterion\n",
    "    curr_val_loss = np.mean(val_losses)\n",
    "    plateau_scheduler.step(curr_val_loss)\n",
    "    \n",
    "    # check early stopping criterion\n",
    "    if curr_val_loss < best_val_loss:\n",
    "        best_val_loss = curr_val_loss\n",
    "        patience_counter = EARLY_PATIENCE # reset patience counter\n",
    "        torch.save(model, './models/model.pth')\n",
    "    else:\n",
    "        patience_counter -= 1\n",
    "        if patience_counter == 0:\n",
    "            print('Early stopping')\n",
    "            break"
   ]
  }
 ]
}